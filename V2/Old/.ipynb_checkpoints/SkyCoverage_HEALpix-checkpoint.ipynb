{
 "cells": [
  {
   "cell_type": "code",
   "execution_count": 4,
   "id": "83536f4f",
   "metadata": {},
   "outputs": [],
   "source": [
    "import matplotlib.pyplot as plt\n",
    "import numpy as np\n",
    "import healpy as hp\n",
    "import numpy as np\n",
    "import csv\n",
    "import matplotlib.pyplot as plt\n",
    "from astropy.io.votable import parse_single_table\n",
    "import time\n",
    "\n",
    "# ADQL used for GOODS South Star Chart, retrieves all objects within 100 arcmin:\n",
    "\n",
    "# SELECT *, DISTANCE(\n",
    "#    POINT(53.1, -27.8),\n",
    "#    POINT(ra, dec))\n",
    "# FROM gaiadr3.gaia_source\n",
    "# WHERE 1 = CONTAINS(\n",
    "#    POINT(53.1, -27.8),\n",
    "#    CIRCLE(ra, dec, 100./60.))\n",
    "# AND phot_g_mean_mag IS NOT NULL\n",
    "# AND parallax IS NOT NULL\n",
    "# ORDER BY phot_g_mean_mag ASC"
   ]
  },
  {
   "cell_type": "code",
   "execution_count": null,
   "id": "614c9a5a",
   "metadata": {},
   "outputs": [],
   "source": []
  },
  {
   "cell_type": "code",
   "execution_count": 71,
   "id": "27dda9b3",
   "metadata": {},
   "outputs": [],
   "source": [
    "#=====================================================================================================================\n",
    "class FOV_stars: #Class for the FOV simulator\n",
    "    def __init__(self,scienceFOV_radius=7.4/2,techFOV_radius=5,mag_limit=19,NSIDE=2**18):\n",
    "        self.scienceFOV_radius=scienceFOV_radius #Diameter of the science FOV in arcmin\n",
    "        self.techFOV_radius=techFOV_radius #Diameter of the tech FOV in arcmin\n",
    "        self.mag_limit=mag_limit #Minimum magnitude of stars to analyse\n",
    "        self.NSIDE=NSIDE # NSIDE correlates to the number of pixels in the HEALpix array, typically in powers of 2\n",
    "        # NSIDE therefore determines resolution of the pixels, NSIDE=2**18 gives resolution of ~1 arcsec\n",
    "        \n",
    "        #Dummy LGS variables until requirements are provided:\n",
    "        self.LGS_distance=3.5 #Distance of LGS cutouts to FOV centre in arcmin\n",
    "        self.LGS_radius=1.5 #Radius of LGS cutouts in armic\n",
    "#=====================================================================================================================\n",
    "    def loadstars(self): #Loads the stars near GOODS South and coverts their positions to HEAL pixels\n",
    "        #Loads GOODS SOUTH STAR CHART within 100 arcmin; downloaded using ASQL from GAIA DR3\n",
    "        table = parse_single_table(\"CANDLES2\")\n",
    "        CANDLES=table.array\n",
    "\n",
    "        self.ra=[] #Right Ascension\n",
    "        self.dec=[] #Declination\n",
    "        self.mag=[] #Magnitude\n",
    "        for i in CANDLES[:]:    #Converts all mag, ra, and dec into floats from strings\n",
    "            if i[2] != '':  #Some observations do not have a magnitude; so these are ignored\n",
    "                if float(i[69]) < self.mag_limit: #Faint stars of mag {INSERT} and above are ignored (too faint for AO NGS)\n",
    "                    self.mag.append(float(i[69])) \n",
    "                    self.ra.append(float(i[5])) \n",
    "                    self.dec.append(float(i[7]))\n",
    "\n",
    "        start=time.time() #Timer to measure the time it takes to convert all stars to HEALpixels\n",
    "        \n",
    "        self.star_pixels=[] #All stars in the catalogue need to be converted to pixel numbers on the HEALpix array\n",
    "        for i in range(0,len(self.ra)):\n",
    "            self.star_pixels.append(hp.ang2pix(self.NSIDE,self.ra[i],self.dec[i],lonlat=True))\n",
    "        \n",
    "        period = time.time() - start\n",
    "        print(\"Time to convert stars to pixels = {:.2}s\".format(period))\n",
    "#=====================================================================================================================\n",
    "#Following function takes the pointing of the FOV and the angle of the LGS cutouts and returns the (ra,dec) of the LGS cutouts \n",
    "#Treats the cutout as co-ords on a unit sphere undergoing 2 rotations:\n",
    "#1) rotation around the x-axis centred on the FOV to provide the orientation of the cutouts\n",
    "#2) rotation around the y-axis perpendicular to the FOV to provide the correct declination of the cutouts\n",
    "\n",
    "    def LGSradec(self,ra0,dec0,LGS_angle): \n",
    "        \n",
    "        #Polar (theta,phi) co-ords of the LGS cutouts at a FOV of ra,dec=0,0\n",
    "        LGS_polars=[[90-self.LGS_distance/60,0],[90,self.LGS_distance/60],[90+self.LGS_distance/60,0],[90,-self.LGS_distance/60]]\n",
    "    \n",
    "        LGS_angle_rad = np.radians(-LGS_angle) #LGS rotation angle needs to be in radians (-symbol as rotation matrix is clockwise from +x)\n",
    "        dec0_rad=np.radians(dec0) #dec0 needs to be in radians\n",
    "\n",
    "        radec=[] #ra and dec co-ordinates of the LGS cutouts\n",
    "\n",
    "        for i in range(0,4): #Goes through each of the 4 LGS cutouts\n",
    "            theta=np.radians(LGS_polars[i][0])\n",
    "            phi=np.radians(LGS_polars[i][1])\n",
    "            \n",
    "            #Following is conversion of polar (theta,phi) to (x,y,z)\n",
    "            x = np.sin(theta)*np.cos(phi)\n",
    "            y = np.sin(theta)*np.sin(phi)\n",
    "            z = np.cos(theta)\n",
    "\n",
    "            #Rotation around the \"x-axis\", centred on the FOV\n",
    "            x_rotx = x\n",
    "            y_rotx = y*np.cos(LGS_angle_rad)-z*np.sin(LGS_angle_rad)\n",
    "            z_rotx = y*np.sin(LGS_angle_rad)+z*np.cos(LGS_angle_rad)\n",
    "\n",
    "            #Rotation around the \"y-axis\", perpendicular to the FOV\n",
    "            x_rotxy = x_rotx*np.cos(-dec0_rad)+z_rotx*np.sin(-dec0_rad)\n",
    "            y_rotxy = y_rotx\n",
    "            z_rotxy = x_rotx*-np.sin(-dec0_rad)+z_rotx*np.cos(-dec0_rad) \n",
    "\n",
    "            #New (theta,phi) co-ords for the LGS cutouts\n",
    "            thetanew = np.degrees(np.arccos(z_rotxy))\n",
    "            phinew = np.degrees(np.arctan(y_rotxy/x_rotxy))\n",
    "\n",
    "            radec.append([phinew+ra0,90-thetanew]) \n",
    "            #+ra0 as need to re-align the right ascension, as we presumed ra=0 for the x-axis rotation\n",
    "            #90- due to conversion of polar to lon/lat\n",
    "            \n",
    "        return radec\n",
    "#=====================================================================================================================        \n",
    "    def findstars(self,ra0,dec0,LGS_angle=0,report=False): #Finds stars within the science and tech FOVS\n",
    "        #ra0 and dec0 are pointing of the telescope/centre of FOV\n",
    "        #LGS angle is the angle to rotate the LGS footprint by, anticlockwise from north in degrees\n",
    "        #Report set to true to returns processing time and resolution\n",
    "        \n",
    "        start = time.time() #Initial time of findstars, to calculate the sim's duration\n",
    "        \n",
    "        vec = hp.ang2vec(ra0,dec0,lonlat=True) #Converts pointing to HEALpix vector\n",
    "        \n",
    "        #Retrieves pixel numbers that are inside the science and tech FOVs\n",
    "        scienceFOV_pixels = hp.query_disc(nside=self.NSIDE, vec=vec, radius=np.radians(self.scienceFOV_radius/60)) \n",
    "        techFOV_pixels = hp.query_disc(nside=self.NSIDE, vec=vec, radius=np.radians(self.techFOV_radius/60)) \n",
    "   \n",
    "        scienceFOV_stars=[] #Indexes of stars within science FOV \n",
    "        techFOV_stars=[] #Indexes of stars within technical FOV \n",
    "        techFOVonly_stars=[] #Indexes of stars within technical FOV (aka annulus)\n",
    "\n",
    "        #Following identifies which stars are inside the science and tech FOVs\n",
    "        #Does thi by comparing the pixel numbers of individual stars with those within the FOV\n",
    "        count=-1\n",
    "        techFOV_index=[]\n",
    "        scienceFOV_index=[]\n",
    "        techFOVonly_index=[]\n",
    "        for i in self.star_pixels:\n",
    "            count=count+1\n",
    "            if i in techFOV_pixels:\n",
    "                techFOV_stars.append(i)\n",
    "                techFOV_index.append(count)\n",
    "                if i in scienceFOV_pixels:\n",
    "                    scienceFOV_stars.append(i)\n",
    "                    scienceFOV_index.append(count)\n",
    "        count=-1\n",
    "\n",
    "        for i in techFOV_stars:\n",
    "            count=count+1\n",
    "\n",
    "            if i not in scienceFOV_stars:\n",
    "                techFOVonly_stars.append(i)\n",
    "                techFOVonly_index.append(techFOV_index[count])\n",
    "        \n",
    "        #Calculates ra and dec of the  4 LGS cutouts based on the pointing and the angle the cutouts are rotated by relative to north\n",
    "        LGS_radecs=self.LGSradec(ra0,dec0,LGS_angle)\n",
    "        \n",
    "        #Converts ra and dec of the LGS cutouts to HEALpix vectors\n",
    "        LGS1_vec=hp.ang2vec(LGS_radecs[0][0],LGS_radecs[0][1],lonlat=True)\n",
    "        LGS2_vec=hp.ang2vec(LGS_radecs[1][0],LGS_radecs[1][1],lonlat=True)\n",
    "        LGS3_vec=hp.ang2vec(LGS_radecs[2][0],LGS_radecs[2][1],lonlat=True)\n",
    "        LGS4_vec=hp.ang2vec(LGS_radecs[3][0],LGS_radecs[3][1],lonlat=True)\n",
    "\n",
    "        #Retrieves pixel numbers that are inside each LGS cutout\n",
    "        LGS1_pixels = hp.query_disc(nside=self.NSIDE, vec=LGS1_vec, radius=np.radians(self.LGS_radius/60)) \n",
    "        LGS2_pixels = hp.query_disc(nside=self.NSIDE, vec=LGS2_vec, radius=np.radians(self.LGS_radius/60))\n",
    "        LGS3_pixels = hp.query_disc(nside=self.NSIDE, vec=LGS3_vec, radius=np.radians(self.LGS_radius/60)) \n",
    "        LGS4_pixels = hp.query_disc(nside=self.NSIDE, vec=LGS4_vec, radius=np.radians(self.LGS_radius/60))\n",
    "        \n",
    "        cutoutstars_index=[] #Indexes of stars within LGS cutouts\n",
    "        cutoutstars_LGS=[] #Which LGS cutout each star lies in: {1,2,3,4}\n",
    "        \n",
    "        #Following identifies which FOV stars are inside specific LGS cutouts by comparing pixel numbers\n",
    "        #Stars that are in LGS cutouts are removed from the scienceFOV and techFOV lists and are added to the cutout list\n",
    "        count=-1\n",
    "        footprint_index=[]\n",
    "        print(\"tech\")\n",
    "        dupetechFOVonly_stars=techFOVonly_stars.copy()\n",
    "        for i in dupetechFOVonly_stars:\n",
    "            count=count+1\n",
    "            if i in LGS1_pixels:\n",
    "                cutoutstars_index.append(i)\n",
    "                techFOVonly_stars.remove(i)\n",
    "                cutoutstars_LGS.append(1)\n",
    "                footprint_index.append(techFOVonly_index[count])\n",
    "                print(self.mag[techFOVonly_index[count]])\n",
    "                print(\"1\")\n",
    "            if i in LGS2_pixels:\n",
    "                cutoutstars_index.append(i)\n",
    "                techFOVonly_stars.remove(i)\n",
    "                cutoutstars_LGS.append(2)\n",
    "                footprint_index.append(techFOVonly_index[count])\n",
    "                print(self.mag[techFOVonly_index[count]])\n",
    "                print(\"2\")\n",
    "            if i in LGS3_pixels:\n",
    "                cutoutstars_index.append(i)\n",
    "                techFOVonly_stars.remove(i)\n",
    "                cutoutstars_LGS.append(3)\n",
    "                footprint_index.append(techFOVonly_index[count])\n",
    "                print(self.mag[techFOVonly_index[count]])\n",
    "                print(\"3\")\n",
    "            if i in LGS4_pixels:\n",
    "                cutoutstars_index.append(i)\n",
    "                techFOVonly_stars.remove(i)\n",
    "                cutoutstars_LGS.append(4)  \n",
    "                footprint_index.append(techFOVonly_index[count])\n",
    "                print(self.mag[techFOVonly_index[count]])\n",
    "                print(\"4\")\n",
    "        count=-1\n",
    "        print(\"science\")\n",
    "        dupescienceFOV_stars=scienceFOV_stars.copy()\n",
    "        for i in dupescienceFOV_stars:\n",
    "            count=count+1\n",
    "            if i in LGS1_pixels:\n",
    "                cutoutstars_index.append(i)\n",
    "                scienceFOV_stars.remove(i)\n",
    "                cutoutstars_LGS.append(1)\n",
    "                footprint_index.append(scienceFOV_index[count])\n",
    "                print(self.mag[scienceFOV_index[count]])\n",
    "                print(\"1\")\n",
    "            if i in LGS2_pixels:\n",
    "                cutoutstars_index.append(i)\n",
    "                scienceFOV_stars.remove(i)\n",
    "                cutoutstars_LGS.append(2)  \n",
    "                print(self.mag[scienceFOV_index[count]])\n",
    "                print(\"2\")\n",
    "            if i in LGS3_pixels:\n",
    "                cutoutstars_index.append(i)\n",
    "                scienceFOV_stars.remove(i)\n",
    "                cutoutstars_LGS.append(3)\n",
    "                print(self.mag[scienceFOV_index[count]])\n",
    "                print(\"3\")\n",
    "            if i in LGS4_pixels:\n",
    "                cutoutstars_index.append(i)\n",
    "                scienceFOV_stars.remove(i)\n",
    "                cutoutstars_LGS.append(4) \n",
    "                print(self.mag[scienceFOV_index[count]])\n",
    "                print(\"4\")\n",
    "        \n",
    "        print(\"Stars in FOV = \"+ str(len(techFOV_stars)))\n",
    "        print(\"Stars in annulus = \"+str(len(techFOVonly_stars)))\n",
    "        print(\"Stars in science field = \"+str(len(scienceFOV_stars)))\n",
    "        print(\"Stars obscured by LGS cutouts = \"+str(len(cutoutstars_index)))\n",
    "        print(\"LGS cutout obscured stars lie in = \"+str(cutoutstars_LGS))\n",
    "        for i in footprint_index:\n",
    "            print(self.mag[i])\n",
    "\n",
    "        if report == True:\n",
    "\n",
    "            print(\"\")\n",
    "            period = time.time() - start #End time of findstars\n",
    "            print(\"For NSIDE/Resolution of 2^{}/{:.2} arcsec\".format((np.log2(self.NSIDE)),hp.nside2resol(self.NSIDE, arcmin=True) * 60))\n",
    "            print(\"Time taken = {:.2}s\".format(period))\n",
    "            #print(\"============================================\")            \n",
    "            return period,hp.nside2resol(self.NSIDE, arcmin=True) * 60"
   ]
  },
  {
   "cell_type": "code",
   "execution_count": 72,
   "id": "ec94bc43",
   "metadata": {},
   "outputs": [
    {
     "name": "stdout",
     "output_type": "stream",
     "text": [
      "Time to convert stars to pixels = 0.15s\n"
     ]
    }
   ],
   "source": [
    "a=FOV_stars(NSIDE=2**18)\n",
    "a.loadstars()"
   ]
  },
  {
   "cell_type": "code",
   "execution_count": 73,
   "id": "80012686",
   "metadata": {},
   "outputs": [
    {
     "name": "stdout",
     "output_type": "stream",
     "text": [
      "tech\n",
      "16.3867244720459\n",
      "2\n",
      "science\n",
      "16.156139373779297\n",
      "2\n",
      "16.213136672973633\n",
      "2\n",
      "17.005924224853516\n",
      "3\n",
      "18.14518928527832\n",
      "4\n",
      "18.255395889282227\n",
      "1\n",
      "18.29361915588379\n",
      "3\n",
      "18.34016990661621\n",
      "2\n",
      "18.856996536254883\n",
      "2\n",
      "Stars in FOV = 23\n",
      "Stars in annulus = 7\n",
      "Stars in science field = 7\n",
      "Stars obscured by LGS cutouts = 9\n",
      "LGS cutout obscured stars lie in = [2, 2, 2, 3, 4, 1, 3, 2, 2]\n",
      "16.3867244720459\n",
      "18.255395889282227\n",
      "\n",
      "For NSIDE/Resolution of 2^18.0/0.81 arcsec\n",
      "Time taken = 1.4s\n"
     ]
    },
    {
     "data": {
      "text/plain": [
       "(1.3727631568908691, 0.8051921277697045)"
      ]
     },
     "execution_count": 73,
     "metadata": {},
     "output_type": "execute_result"
    }
   ],
   "source": [
    "a.findstars(53.16571426,-27.89375114, LGS_angle=20, report=True)"
   ]
  },
  {
   "cell_type": "code",
   "execution_count": 70,
   "id": "30dec723",
   "metadata": {},
   "outputs": [
    {
     "name": "stdout",
     "output_type": "stream",
     "text": [
      "tech\n",
      "13.926642417907715\n",
      "3\n",
      "14.266542434692383\n",
      "3\n",
      "science\n",
      "12.709394454956055\n",
      "3\n",
      "13.70879077911377\n",
      "1\n",
      "14.418876647949219\n",
      "4\n",
      "Stars in FOV = 14\n",
      "Stars in annulus = 4\n",
      "Stars in science field = 5\n",
      "Stars obscured by LGS cutouts = 5\n",
      "LGS cutout obscured stars lie in = [3, 3, 3, 1, 4]\n",
      "13.926642417907715\n",
      "14.266542434692383\n",
      "13.70879077911377\n",
      "\n",
      "For NSIDE/Resolution of 2^18.0/0.81 arcsec\n",
      "Time taken = 0.6s\n"
     ]
    },
    {
     "data": {
      "text/plain": [
       "(0.6005377769470215, 0.8051921277697045)"
      ]
     },
     "execution_count": 70,
     "metadata": {},
     "output_type": "execute_result"
    }
   ],
   "source": [
    "a.findstars(54.1,-27.8, LGS_angle=10, report=True)"
   ]
  },
  {
   "cell_type": "code",
   "execution_count": null,
   "id": "2ef6feb2",
   "metadata": {},
   "outputs": [],
   "source": []
  },
  {
   "cell_type": "code",
   "execution_count": null,
   "id": "c6ee8341",
   "metadata": {},
   "outputs": [],
   "source": []
  },
  {
   "cell_type": "code",
   "execution_count": null,
   "id": "479b5c5f",
   "metadata": {},
   "outputs": [],
   "source": []
  },
  {
   "cell_type": "code",
   "execution_count": null,
   "id": "000b9d3a",
   "metadata": {},
   "outputs": [],
   "source": []
  },
  {
   "cell_type": "code",
   "execution_count": null,
   "id": "0733098f",
   "metadata": {},
   "outputs": [],
   "source": []
  },
  {
   "cell_type": "code",
   "execution_count": null,
   "id": "be6186f0",
   "metadata": {},
   "outputs": [],
   "source": []
  },
  {
   "cell_type": "code",
   "execution_count": null,
   "id": "6ed969cf",
   "metadata": {},
   "outputs": [],
   "source": []
  },
  {
   "cell_type": "code",
   "execution_count": null,
   "id": "01107c58",
   "metadata": {},
   "outputs": [],
   "source": [
    "a=FOV_stars(NSIDE=2**15)\n",
    "a.loadstars()\n",
    "a.findstars(53.14884949,-27.91123886, report=True)"
   ]
  },
  {
   "cell_type": "code",
   "execution_count": null,
   "id": "8bbe4350",
   "metadata": {},
   "outputs": [],
   "source": [
    "times=[]\n",
    "resolutions=[]\n",
    "for i in range(10,22):\n",
    "    a=FOV_stars(NSIDE=2**i)\n",
    "    a.loadstars()\n",
    "    t,R=a.findstars(54.022,-27.8, report=True)\n",
    "    times.append(t)\n",
    "    resolutions.append(R)\n",
    "    \n",
    "    \n",
    "    \n",
    "    "
   ]
  },
  {
   "cell_type": "code",
   "execution_count": null,
   "id": "a4aeb1c2",
   "metadata": {},
   "outputs": [],
   "source": [
    "plt.figure(figsize=(10,10))\n",
    "plt.scatter(resolutions,times,marker=\"x\")\n",
    "plt.xlabel(\"Resolutions (arcsec)\")\n",
    "plt.ylabel(\"Time to Retrieve Stars (s)\")\n",
    "#plt.ylim(0,0.4)\n",
    "#plt.xlim(0,60)\n",
    "plt.yscale('log')\n",
    "plt.xscale('log')"
   ]
  },
  {
   "cell_type": "code",
   "execution_count": null,
   "id": "612b57cf",
   "metadata": {},
   "outputs": [],
   "source": [
    "for i in range(0,len(times)):\n",
    "    #print(\"t: \"+str(times[i])+\" Res: \"+str(resolutions[i]))\n",
    "    print(\"t: {:.2}s, Res: {:.2} arcsecs\".format(times[i],resolutions[i]))"
   ]
  },
  {
   "cell_type": "code",
   "execution_count": null,
   "id": "b97870ee",
   "metadata": {},
   "outputs": [],
   "source": [
    "a=FOV_stars(NSIDE=2**17)\n",
    "a.loadstars()"
   ]
  },
  {
   "cell_type": "code",
   "execution_count": null,
   "id": "7a59caa1",
   "metadata": {},
   "outputs": [],
   "source": [
    "a.findstars(53.10850525,-27.71668243, report=True)"
   ]
  },
  {
   "cell_type": "code",
   "execution_count": null,
   "id": "6f783a2e",
   "metadata": {},
   "outputs": [],
   "source": []
  },
  {
   "cell_type": "code",
   "execution_count": null,
   "id": "8e1cbe3a",
   "metadata": {},
   "outputs": [],
   "source": [
    "# count=1\n",
    "# pixelcount=[]\n",
    "# for i in range(0,len(techFOV_pixels)-1):\n",
    "#     if techFOV_pixels[i+1]==techFOV_pixels[i]+1:\n",
    "#         count=count+1\n",
    "#     else:\n",
    "#         pixelcount.append(count)\n",
    "#         count=1\n",
    "# pixelcount.append(count)\n"
   ]
  },
  {
   "cell_type": "code",
   "execution_count": null,
   "id": "84536ed9",
   "metadata": {},
   "outputs": [],
   "source": [
    "# print(pixelcount)"
   ]
  },
  {
   "cell_type": "code",
   "execution_count": null,
   "id": "7660ebec",
   "metadata": {},
   "outputs": [],
   "source": [
    "# print(len(pixelcount))"
   ]
  },
  {
   "cell_type": "code",
   "execution_count": null,
   "id": "9b3affc8",
   "metadata": {},
   "outputs": [],
   "source": []
  },
  {
   "cell_type": "code",
   "execution_count": null,
   "id": "3ffef2e0",
   "metadata": {},
   "outputs": [],
   "source": []
  },
  {
   "cell_type": "code",
   "execution_count": null,
   "id": "80b3d5e9",
   "metadata": {},
   "outputs": [],
   "source": []
  }
 ],
 "metadata": {
  "kernelspec": {
   "display_name": "Python 3 (ipykernel)",
   "language": "python",
   "name": "python3"
  },
  "language_info": {
   "codemirror_mode": {
    "name": "ipython",
    "version": 3
   },
   "file_extension": ".py",
   "mimetype": "text/x-python",
   "name": "python",
   "nbconvert_exporter": "python",
   "pygments_lexer": "ipython3",
   "version": "3.7.13"
  },
  "vscode": {
   "interpreter": {
    "hash": "c41ce8533973f47bb222bf03c1b3dde5677659984c4f668baf7201671ea54eb3"
   }
  }
 },
 "nbformat": 4,
 "nbformat_minor": 5
}
